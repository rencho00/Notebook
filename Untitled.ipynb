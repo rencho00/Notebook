{
 "cells": [
  {
   "cell_type": "code",
   "execution_count": 3,
   "metadata": {},
   "outputs": [
    {
     "name": "stdout",
     "output_type": "stream",
     "text": [
      "First Number is =100\n",
      "second Number is =233\n",
      "Addition Number is =333\n"
     ]
    }
   ],
   "source": [
    "class name:\n",
    "    first=0;\n",
    "    second=0;\n",
    "    answer=0;\n",
    "    def __init__(self,f,s):\n",
    "        self.first=f;\n",
    "        self.second=s;\n",
    "    def fuc1(self):\n",
    "        print('First Number is =' + str(self.first));\n",
    "        print('second Number is =' + str(self.second));\n",
    "        print('Addition Number is =' + str(self.answer))\n",
    "    def add(self):\n",
    "        self.answer=self.first+self.second;\n",
    "ass=name(100,233);\n",
    "ass.add()\n",
    "ass.fuc1();\n"
   ]
  },
  {
   "cell_type": "code",
   "execution_count": 5,
   "metadata": {},
   "outputs": [
    {
     "name": "stdout",
     "output_type": "stream",
     "text": [
      "MOHIT\n",
      "23232\n",
      "300000\n",
      "DATASCI\n"
     ]
    }
   ],
   "source": [
    "class emp(object):\n",
    "    def __init__(self,name,idn):\n",
    "        self.name=name;\n",
    "        self.idn=idn;\n",
    "    def getEmpl(self):\n",
    "        print(self.name);\n",
    "        print(self.idn);\n",
    "        \n",
    "class person(emp):\n",
    "    def __init__(self,name,idn,salary,post):\n",
    "        self.salary=salary;\n",
    "        self.post=post;\n",
    "        emp.__init__(self,name,idn);\n",
    "    def em(self):\n",
    "        print(self.salary);\n",
    "        print(self.post)\n",
    "a=person('MOHIT',23232,300000,'DATASCI')\n",
    "a.getEmpl()\n",
    "a.em()"
   ]
  },
  {
   "cell_type": "code",
   "execution_count": 7,
   "metadata": {},
   "outputs": [
    {
     "name": "stdout",
     "output_type": "stream",
     "text": [
      "dshskj\n",
      "dshga\n",
      "Derived\n",
      "Mohit Sagar\n"
     ]
    }
   ],
   "source": [
    "class base1(object):\n",
    "    def __init__(self):\n",
    "        self.str1='Mohit';\n",
    "        print('dshskj');\n",
    "\n",
    "class base2(object):\n",
    "    def __init__(self):\n",
    "        self.str2='Sagar';\n",
    "        print('dshga');\n",
    "        \n",
    "class Derived(base1,base2):\n",
    "    def __init__(self):\n",
    "        base1.__init__(self);\n",
    "        base2.__init__(self);\n",
    "        print('Derived');\n",
    "    def pr(self):\n",
    "        print(self.str1,self.str2);\n",
    "        \n",
    "ob=Derived()\n",
    "ob.pr()\n"
   ]
  },
  {
   "cell_type": "code",
   "execution_count": 9,
   "metadata": {},
   "outputs": [
    {
     "name": "stdout",
     "output_type": "stream",
     "text": [
      "Sagar\n",
      "son name is  Mohit\n",
      "Father Name is Sagar\n",
      "Grandfather name is Rajkumar\n"
     ]
    }
   ],
   "source": [
    "class grandfather:\n",
    "    def __init__(self,grand):\n",
    "        self.grand=grand;\n",
    "class father(grandfather):\n",
    "    def __init__(self,dad,grand):\n",
    "        self.dad=dad;\n",
    "        grandfather.__init__(self,grand);\n",
    "class son(father):\n",
    "    def __init__(self,son,dad,grand):\n",
    "        self.son=son;\n",
    "        father.__init__(self,dad,grand);\n",
    "    def prn(self):\n",
    "        print('son name is  ' + self.son);\n",
    "        print('Father Name is '+ self.dad);\n",
    "        print('Grandfather name is ' + self.grand);\n",
    "s1=son('Mohit','Sagar','Rajkumar')\n",
    "print(s1.dad)\n",
    "s1.prn()\n",
    "    "
   ]
  },
  {
   "cell_type": "code",
   "execution_count": null,
   "metadata": {},
   "outputs": [],
   "source": []
  }
 ],
 "metadata": {
  "kernelspec": {
   "display_name": "Python 3",
   "language": "python",
   "name": "python3"
  },
  "language_info": {
   "codemirror_mode": {
    "name": "ipython",
    "version": 3
   },
   "file_extension": ".py",
   "mimetype": "text/x-python",
   "name": "python",
   "nbconvert_exporter": "python",
   "pygments_lexer": "ipython3",
   "version": "3.8.5"
  }
 },
 "nbformat": 4,
 "nbformat_minor": 4
}
